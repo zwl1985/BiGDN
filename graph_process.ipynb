{
 "cells": [
  {
   "cell_type": "code",
   "execution_count": 1,
   "id": "8accb4a4-750c-418c-a477-c6f41f2babb4",
   "metadata": {
    "tags": []
   },
   "outputs": [],
   "source": [
    "import networkx as nx"
   ]
  },
  {
   "cell_type": "code",
   "execution_count": 16,
   "id": "ac6e6e70-1d99-4dc3-aecd-a300c8cf3353",
   "metadata": {
    "tags": []
   },
   "outputs": [],
   "source": [
    "g = nx.read_edgelist('test_graphs/graph_name.txt', nodetype=int, create_using=nx.Graph)\n",
    "g = nx.convert_node_labels_to_integers(g, first_label=0)"
   ]
  },
  {
   "cell_type": "code",
   "execution_count": 17,
   "id": "a53ab0f9-9f86-4002-bf59-8298f17fda1d",
   "metadata": {
    "tags": []
   },
   "outputs": [
    {
     "name": "stdout",
     "output_type": "stream",
     "text": [
      "Graph with 168278 nodes and 233277 edges\n"
     ]
    }
   ],
   "source": [
    "print(g)"
   ]
  },
  {
   "cell_type": "code",
   "execution_count": 20,
   "id": "b07de381-3855-4ec0-bca9-540b18462f90",
   "metadata": {
    "tags": []
   },
   "outputs": [],
   "source": [
    "g = g.to_directed()"
   ]
  },
  {
   "cell_type": "code",
   "execution_count": 21,
   "id": "fd48d910-5226-4fdb-b4c6-94a04d80d0be",
   "metadata": {
    "tags": []
   },
   "outputs": [
    {
     "name": "stdout",
     "output_type": "stream",
     "text": [
      "DiGraph with 168278 nodes and 466548 edges\n"
     ]
    }
   ],
   "source": [
    "print(g)"
   ]
  },
  {
   "cell_type": "code",
   "execution_count": 22,
   "id": "11b783bd-c14e-4f1d-b545-753e873ead93",
   "metadata": {
    "tags": []
   },
   "outputs": [],
   "source": [
    "f = open('test_graphs/graph_name.txt', 'w')"
   ]
  },
  {
   "cell_type": "code",
   "execution_count": 23,
   "id": "1ea48835-e383-4476-90a4-df22a665cd05",
   "metadata": {
    "tags": []
   },
   "outputs": [],
   "source": [
    "for u, v, a in g.edges(data=True):\n",
    "    f.write(f'{u} {v} \\n')"
   ]
  },
  {
   "cell_type": "code",
   "execution_count": 24,
   "id": "37500964-5755-40ab-b653-a4e04504b2ba",
   "metadata": {
    "tags": []
   },
   "outputs": [],
   "source": [
    "f.flush()\n",
    "f.close()"
   ]
  }
 ],
 "metadata": {
  "kernelspec": {
   "display_name": "Python 3 (ipykernel)",
   "language": "python",
   "name": "python3"
  },
  "language_info": {
   "codemirror_mode": {
    "name": "ipython",
    "version": 3
   },
   "file_extension": ".py",
   "mimetype": "text/x-python",
   "name": "python",
   "nbconvert_exporter": "python",
   "pygments_lexer": "ipython3",
   "version": "3.8.10"
  }
 },
 "nbformat": 4,
 "nbformat_minor": 5
}
